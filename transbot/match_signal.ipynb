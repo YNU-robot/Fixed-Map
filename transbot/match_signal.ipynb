{
 "cells": [
  {
   "cell_type": "code",
   "execution_count": 1,
   "metadata": {},
   "outputs": [],
   "source": [
    "import cv2"
   ]
  },
  {
   "cell_type": "code",
   "execution_count": null,
   "metadata": {},
   "outputs": [],
   "source": [
    "img = cv2.imread(\"../../../data/traindatava/1571_0.09_0.0.jpg\")\n",
    "target = cv2.imread(\"../../../data/turn_left.jpg\")\n",
    "\n",
    "sift = cv2.xfeatures2d.SIFT_create()\n",
    "kp1, des1 = sift.detectAndCompute(img, None)\n",
    "kp2, des2 = sift.detectAndCompute(target, None)\n",
    "\n",
    "# 设置FLANN匹配器\n",
    "FLANN_INDEX_KDTREE = 0\n",
    "indexParams = dict(algorithm=FLANN_INDEX_KDTREE, trees=5)\n",
    "searchParams = dict(checks=50)\n",
    "flann = cv2.FlannBasedMatcher(indexParams, searchParams)\n",
    "matches = flann.knnMatch(des1, des2, k=2)\n",
    "\n",
    "matchesMask = [[0, 0] for i in range(len(matches))]\n",
    "for i, (m, n) in enumerate(matches):\n",
    "    # 丢弃小于0.7的匹配\n",
    "    if m.distance < 0.7 * n.distance:\n",
    "        matchesMask[i] = [1, 0]\n",
    "draw_params = dict(matchColor=(0, 255, 0), singlePointColor=(255, 0, 0), matchesMask=matchesMask, flags=0)\n",
    "result = cv2.drawMatchesKnn(img, kp1, target, kp2, matches, None, **draw_params)\n"
   ]
  }
 ],
 "metadata": {
  "kernelspec": {
   "display_name": "venvForIpynb",
   "language": "python",
   "name": "python3"
  },
  "language_info": {
   "codemirror_mode": {
    "name": "ipython",
    "version": 3
   },
   "file_extension": ".py",
   "mimetype": "text/x-python",
   "name": "python",
   "nbconvert_exporter": "python",
   "pygments_lexer": "ipython3",
   "version": "3.9.6"
  },
  "orig_nbformat": 4
 },
 "nbformat": 4,
 "nbformat_minor": 2
}
